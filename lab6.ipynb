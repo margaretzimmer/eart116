{
 "cells": [
  {
   "cell_type": "markdown",
   "metadata": {
    "deletable": false,
    "editable": false,
    "id": "SCXZmdKUR1Hg"
   },
   "source": [
    "# Eart 116 Hydrology: Lab 6, Hydrographs and Hydrologic Computing\n",
    "### Insert your name in the cell below."
   ]
  },
  {
   "cell_type": "markdown",
   "metadata": {
    "id": "W8SrIoNNR1Hm"
   },
   "source": []
  },
  {
   "cell_type": "markdown",
   "metadata": {
    "deletable": false,
    "editable": false,
    "id": "UUO7QQZ2R1Hn"
   },
   "source": [
    "### **Scientific coding is an important skill to hone.**\n",
    "\n",
    "We will be utilizing a programming langauge called R! No it wasn't developed by pirates (sorry had to)! R is orginally a statistical computing langauge first developed in the early 90's. Today R is one of the most widely used languages in STEM computing. A big key to the R langauge's success is that it is an \"open-source\" code, that means that developers, scienctists, or your grandma could write a package of code and contribute to the development of R. Additionally, R is free, everyone likes free!\n",
    "\n",
    "![](lab_photos/pirate.png)\n",
    "\n",
    "Today, we will be using open source R packages from the USGS to learn about stream flow. I will include links where I can to the packages if you are interested!\n",
    "\n",
    "Lets get started!"
   ]
  },
  {
   "cell_type": "markdown",
   "metadata": {
    "deletable": false,
    "editable": false,
    "id": "e3j_sH6HR1Hn"
   },
   "source": [
    "## **The goal of today's lab is to determine the location of the 3 unknown streamgages by analyzing temporal trends, magnitudes, and simple statistics from publically available USGS NWIS data. AKA. Where in the World are these gauges located?**\n",
    "\n",
    "Please answer the following questions, print out a copy of your lab, and upload a copy of your Jupyter Notebook to Canvas. The last two steps were outlined in the mandatory prelab."
   ]
  },
  {
   "cell_type": "markdown",
   "metadata": {
    "deletable": false,
    "editable": false,
    "id": "c8nc0CPfR1Ho"
   },
   "source": [
    "## First, we need to load the packages that we will be using today.\n",
    "\n",
    "As with any coding language, you need to setup your environment. Loading packages is like getting out the applicances neccesacy to make cookies. We will need the mixer and the oven so we will load those packages. Loading more packages than you need will clutter the kitchen (code) and make your code run very slow. "
   ]
  },
  {
   "cell_type": "code",
   "execution_count": 2,
   "metadata": {
    "deletable": false,
    "editable": false,
    "id": "cQpYuau_R1Ho"
   },
   "outputs": [
    {
     "name": "stderr",
     "output_type": "stream",
     "text": [
      "also installing the dependencies ‘prettyunits’, ‘rprojroot’, ‘pkgbuild’, ‘diffobj’, ‘brio’, ‘callr’, ‘cli’, ‘desc’, ‘pkgload’, ‘praise’, ‘processx’, ‘ps’, ‘rlang’, ‘waldo’, ‘withr’, ‘testthat’, ‘isoband’\n",
      "\n",
      "Warning message in install.packages(\"ggplot2\"):\n",
      "“installation of package ‘ps’ had non-zero exit status”Warning message in install.packages(\"ggplot2\"):\n",
      "“installation of package ‘processx’ had non-zero exit status”Warning message in install.packages(\"ggplot2\"):\n",
      "“installation of package ‘callr’ had non-zero exit status”Warning message in install.packages(\"ggplot2\"):\n",
      "“installation of package ‘pkgbuild’ had non-zero exit status”Warning message in install.packages(\"ggplot2\"):\n",
      "“installation of package ‘pkgload’ had non-zero exit status”Warning message in install.packages(\"ggplot2\"):\n",
      "“installation of package ‘testthat’ had non-zero exit status”Warning message in install.packages(\"ggplot2\"):\n",
      "“installation of package ‘isoband’ had non-zero exit status”Warning message in install.packages(\"ggplot2\"):\n",
      "“installation of package ‘ggplot2’ had non-zero exit status”Updating HTML index of packages in '.Library'\n",
      "Making 'packages.html' ... done\n"
     ]
    },
    {
     "ename": "ERROR",
     "evalue": "Error in library(ggplot2): there is no package called ‘ggplot2’\n",
     "output_type": "error",
     "traceback": [
      "Error in library(ggplot2): there is no package called ‘ggplot2’\nTraceback:\n",
      "1. library(ggplot2)",
      "2. stop(txt, domain = NA)"
     ]
    }
   ],
   "source": [
    "#####Load packages here####\n",
    "library(ggplot2)\n",
    "library(tidyverse)\n",
    "library(lubridate)\n",
    "library(dataRetrieval) #This is the open source package from the USGS \"dataRetreival\"\n",
    "source(\"functions/functions.R\") # These are pre-canned functions that I have made. Look in the functions folder if you are interested in these."
   ]
  },
  {
   "cell_type": "markdown",
   "metadata": {
    "deletable": false,
    "editable": false,
    "id": "hfZ5oxUfR1Hq"
   },
   "source": [
    "The first thing we will be doing is downloading all the data that we will be using today. As you remember from previous labs, downloading hydrologic data manually can be time consuming and confusing. These commands make it easy and formats your data into easy to use tables.\n",
    "\n",
    "An example of the function is below\n",
    "\n",
    "site_name = readNWISdata(sites='sitenumber',service='typeofdata',startDate=\"YYYY-MM-DD\",endDate=\"YYYY-MM-DD\")\n",
    "\n",
    "Where:\n",
    "- **site_name** = is the name of your site. This must be unique and make sense to anyone who might use (or grade) your code in the future.\n",
    "- **sitenumber** = the site number deliniated by the usgs. MUST BE IN QUOTES\n",
    "- **service** = this is the type of data you want to use. In our case we will be using daily values which can be specified by **service**='dv' .\n",
    "- **startDate** = the day you want to begin pulling your streamflow data from. MUST **BE IN QUOTES** and the format is \"YYYY-MM-DD\" . So September 30, 1980 would be \"1980-09-30\"\n",
    "- **endDate** = the day that you want to stop querying the USGS system for data. This is in the same format as startDate (\"YYYY-MM-DD\")\n"
   ]
  },
  {
   "cell_type": "markdown",
   "metadata": {
    "deletable": false,
    "editable": false,
    "id": "IKFYJFysR1Hr"
   },
   "source": [
    " ### **In the cell below,** using the link below, detail what the difference between the functions 'readNWISdata' and 'readNWISdv'.\n",
    " \n",
    " https://owi.usgs.gov/R/training-curriculum/usgs-packages/dataRetrieval-readNWIS/"
   ]
  },
  {
   "cell_type": "markdown",
   "metadata": {
    "deletable": false,
    "editable": false,
    "id": "iyxhjYLqR1Hr"
   },
   "source": []
  },
  {
   "cell_type": "markdown",
   "metadata": {
    "deletable": false,
    "editable": false,
    "id": "rAT_hzjWR1Hs"
   },
   "source": [
    "# **Question 1**\n",
    "\n",
    "In the code box below I have given you an example line of code pulling in data from the Piedra River Gauge '09349800\". All USGS NWIS gages are specified by an (8) digit code.\n",
    "\n",
    "Use the next 3 lines of code to read in the streaflow data from the 3 unknown sites for ***water year 2020*** (WY2020):\n",
    "- 09402000\n",
    "- 07010000\n",
    "- 09380000"
   ]
  },
  {
   "cell_type": "code",
   "execution_count": null,
   "metadata": {
    "id": "_O8xaxrcR1Hs"
   },
   "outputs": [],
   "source": [
    "piedra = ap_readNWISdata(sites='09349800',service='dv',startDate=\"2019-10-01\",endDate=\"2020-09-30\")\n",
    "\n",
    "### site2\n",
    "site2name = ap_readNWISdata(sites='sitenumber',service='dv',startDate=\"YYYY-MM-DD\",endDate=\"YYYY-MM-DD\")\n",
    "\n",
    "### site3\n",
    "site3name = ap_readNWISdata(sites='sitenumber',service='dv',startDate=\"YYYY-MM-DD\",endDate=\"YYYY-MM-DD\")\n",
    "\n",
    "### site4\n",
    "site4name = ap_readNWISdata(sites='sitenumber',service='dv',startDate=\"YYYY-MM-DD\",endDate=\"YYYY-MM-DD\")"
   ]
  },
  {
   "cell_type": "markdown",
   "metadata": {
    "id": "kLJ6GSJyTnoq"
   },
   "source": [
    "### Run the next line of code to plot the discharge from WY2020 for all 4 gages. If you did not change the names of the sites above you do not need to do anything but hit \"*shift + enter*\" on the cell below"
   ]
  },
  {
   "cell_type": "code",
   "execution_count": null,
   "metadata": {
    "id": "cJBuicYeR1Ht"
   },
   "outputs": [],
   "source": [
    "ap_plot(piedra,site2name,site3name,site4name)"
   ]
  },
  {
   "cell_type": "markdown",
   "metadata": {
    "deletable": false,
    "editable": false,
    "id": "aDYA4hjUR1Ht"
   },
   "source": [
    "# **Question 1 Discussion**"
   ]
  },
  {
   "cell_type": "markdown",
   "metadata": {
    "deletable": false,
    "id": "eyJ1UrgrR1Hu"
   },
   "source": [
    "## What differences do you observe in the magnitude of the discharges? "
   ]
  },
  {
   "cell_type": "markdown",
   "metadata": {
    "deletable": false,
    "id": "2jBZuQR0R1Ht"
   },
   "source": []
  },
  {
   "cell_type": "markdown",
   "metadata": {
    "deletable": false,
    "editable": false,
    "id": "ouddG79ER1Ht"
   },
   "source": [
    "## What temporal (time) differences you observe in the 4 plots above? (I.E. Do gages all have high or low discharge values at the same time periods? Are they different? How?)\n",
    "\n",
    "Input answer here by double clicking this box and typing below. Once you are satisfied with your answer click the next button at the top of the jupyter notebook or \"*shift+enter*\" to render this cell! You can always reenter this box by double clicking on it again.\n"
   ]
  },
  {
   "cell_type": "markdown",
   "metadata": {
    "id": "4mTOusz4R1Hu"
   },
   "source": []
  },
  {
   "cell_type": "markdown",
   "metadata": {
    "deletable": false,
    "id": "Wk26iZQNR1Hu"
   },
   "source": [
    "## Using the answers to the questions above, make a guess to what landscapes these streamgages may represent.(I.E. High mountain stream, large lowland river, coastal creek, glacial river, etc)"
   ]
  },
  {
   "cell_type": "markdown",
   "metadata": {
    "id": "jr7573VOR1Hu"
   },
   "source": []
  },
  {
   "cell_type": "markdown",
   "metadata": {
    "deletable": false,
    "editable": false,
    "id": "jam5BcVoR1Hu"
   },
   "source": [
    "# **Question 2**"
   ]
  },
  {
   "cell_type": "markdown",
   "metadata": {
    "deletable": false,
    "editable": false,
    "id": "yCL-LQgaR1Hv"
   },
   "source": [
    "### Getting Data For Multiple WY: Looking at Seasonality\n",
    "\n",
    "A very powerful tool of the dataRetreival package is the abilty to import multiple water years worth of data for comparison. \n",
    "\n",
    "In the cell below, using the 'ap_multiyear' function we are bringing in 5 water years worth of data from the Piedra River. The arguments you must use are the same as the previous question plus one additional argument:\n",
    "- numYear = which is the number of water years of data that you want to import.\n",
    "\n",
    "**Run the cell below** and the function will automatically import the 5 water years of data from the Piedra River for you."
   ]
  },
  {
   "cell_type": "code",
   "execution_count": null,
   "metadata": {
    "deletable": false,
    "editable": false,
    "id": "QxkhUz5YR1Hv"
   },
   "outputs": [],
   "source": [
    "piedra_multiyear = ap_multiyear(sites='09349800',service='dv',startDate='2017-10-01',endDate='2018-09-30',numYear = 5)"
   ]
  },
  {
   "cell_type": "markdown",
   "metadata": {
    "deletable": false,
    "editable": false,
    "id": "UMTLYzDJR1Hw"
   },
   "source": [
    "### **In the cell below**\n",
    "\n",
    "Use the next 3 lines of code to read in the streaflow data from the 3 unknown sites starting WY2020.\n",
    "\n",
    "Note: This program displays non-fatal errors. Ignore these :)"
   ]
  },
  {
   "cell_type": "code",
   "execution_count": null,
   "metadata": {
    "deletable": false,
    "id": "Px9jOFsQR1Hw"
   },
   "outputs": [],
   "source": [
    "### site2\n",
    "site2name_multiyear = ap_multiyear()\n",
    "\n",
    "### site3\n",
    "site3name_multiyear = ap_multiyear()\n",
    "\n",
    "### site4\n",
    "site4name_multiyear = ap_multiyear()"
   ]
  },
  {
   "cell_type": "markdown",
   "metadata": {
    "deletable": false,
    "editable": false,
    "id": "6ZIeiew6R1Hw"
   },
   "source": [
    "#### Using the summary() function from the prelab, find the median, mean, maximum, and minimum for all 4 datasets for the 5 WY period"
   ]
  },
  {
   "cell_type": "code",
   "execution_count": null,
   "metadata": {
    "id": "hRSf6XquR1Hw"
   },
   "outputs": [],
   "source": [
    "summary(piedra_multiyear)"
   ]
  },
  {
   "cell_type": "code",
   "execution_count": null,
   "metadata": {
    "id": "VBw9sJRwR1Hx"
   },
   "outputs": [],
   "source": [
    "summary()"
   ]
  },
  {
   "cell_type": "code",
   "execution_count": null,
   "metadata": {
    "id": "Fv-oFC2pR1Hx"
   },
   "outputs": [],
   "source": [
    "summary()"
   ]
  },
  {
   "cell_type": "code",
   "execution_count": null,
   "metadata": {
    "id": "7eUTfUUaR1Hx"
   },
   "outputs": [],
   "source": [
    "summary()"
   ]
  },
  {
   "cell_type": "markdown",
   "metadata": {
    "deletable": false,
    "editable": false,
    "id": "0nUQGkOtR1Hx"
   },
   "source": [
    "#### Using the ap_multiyear_plot function below, plot all the gauges. The arguments should be:\n",
    "`ap_multiyear_plot(gage1,gage2,gage3,gage4)`\n",
    "\n",
    "Where:\n",
    "- gage1 = Piedra River gage\n",
    "- gage2 = whatever your gage 2 is \n",
    "- .... and so on"
   ]
  },
  {
   "cell_type": "code",
   "execution_count": null,
   "metadata": {
    "id": "6TqpJDpuR1Hx"
   },
   "outputs": [],
   "source": [
    "ap_multiyear_plot()"
   ]
  },
  {
   "cell_type": "markdown",
   "metadata": {
    "deletable": false,
    "editable": false,
    "id": "7fmiNhOZR1Hx"
   },
   "source": [
    "# **Question 2 Discussion**"
   ]
  },
  {
   "cell_type": "markdown",
   "metadata": {
    "deletable": false,
    "editable": false,
    "id": "nzlbdRYsR1Hx"
   },
   "source": [
    "## Using the summary statistics above, describe the differences between gages. (I.E. Which gage has the highest median and mean discharges, widest distribution (spread of quantiles realitive to the mean), note maximum and minimum discharges, etc)"
   ]
  },
  {
   "cell_type": "markdown",
   "metadata": {
    "id": "AAzS0CbBR1Hx"
   },
   "source": []
  },
  {
   "cell_type": "markdown",
   "metadata": {
    "deletable": false,
    "editable": false,
    "id": "-3n7LGE5R1Hy"
   },
   "source": [
    "## Looking at the plot of WY for all 4 gages you can see they all exhibit different seasonalities. Discribe the temporal trends (seasonality, diurnal fluctuations, correlation to horoscope (hehe), etc) for all 4 gages below"
   ]
  },
  {
   "cell_type": "markdown",
   "metadata": {
    "id": "098uBt9LR1Hy"
   },
   "source": []
  },
  {
   "cell_type": "markdown",
   "metadata": {
    "deletable": false,
    "editable": false,
    "id": "V_ji_8gKR1Hz"
   },
   "source": [
    "## Given more information make another guess to what landscapes these streamgages may represent. (I.E. High mountain stream, large lowland river, coastal creek, glacial river, etc). Think about the statistics you calculated and seasonal trends you observed."
   ]
  },
  {
   "cell_type": "markdown",
   "metadata": {
    "id": "ImplBFEbR1Hz"
   },
   "source": []
  },
  {
   "cell_type": "markdown",
   "metadata": {
    "deletable": false,
    "editable": false,
    "id": "PQe9gmYpR1Hz"
   },
   "source": [
    "# **Question 3**"
   ]
  },
  {
   "cell_type": "markdown",
   "metadata": {
    "deletable": false,
    "editable": false,
    "id": "--T9a-ROR1Hz"
   },
   "source": [
    "The final task is to look at the historical record of maximum discharge for the gages. Looking at when maximum flows occur can tell us important information about how and when these streams receieve the most streamflow generating inflow.\n",
    "\n",
    "Below is a the function 'ap_readNWISpeak\" that reads in the maximum velcocity and corresponding date for that velocity. The only argument that is need is the USGS NWIS gage number.\n",
    "\n",
    "The next function named \"ap_peakPlot\" plots 2 plots on top of each other showing the number of maximum discharge readings occuring at a given month throughout the year and a plot of year vs peak discharge values at those years. The only argument that is needed is the name of the peak discharge dataset. For example:\n",
    "\n",
    "`ap_peakPlot(peakData)`\n",
    "\n",
    "The cell below reads in data for the Peidra River and plots that data.\n",
    "\n",
    " **Run the cell below.**"
   ]
  },
  {
   "cell_type": "code",
   "execution_count": null,
   "metadata": {
    "deletable": false,
    "editable": false,
    "id": "A-3MZdUoR1Hz"
   },
   "outputs": [],
   "source": [
    "piedra_peak = ap_readNWISpeak('09349800')\n",
    "ap_peakPlot(piedra_peak)"
   ]
  },
  {
   "cell_type": "markdown",
   "metadata": {
    "deletable": false,
    "editable": false,
    "id": "6srSZHVwR1Hz"
   },
   "source": [
    "Alter the next three cells of code to read in the peak values and dates for the 3 unknown gages and print them to the screen."
   ]
  },
  {
   "cell_type": "code",
   "execution_count": null,
   "metadata": {
    "id": "biE-qIZZR1Hz"
   },
   "outputs": [],
   "source": [
    "gage2_peak = ap_readNWISpeak()\n",
    "ap_peakPlot()"
   ]
  },
  {
   "cell_type": "code",
   "execution_count": null,
   "metadata": {
    "id": "hHD8Ju0AR1Hz"
   },
   "outputs": [],
   "source": [
    "gage4_peak = ap_readNWISpeak()\n",
    "ap_peakPlot()"
   ]
  },
  {
   "cell_type": "code",
   "execution_count": null,
   "metadata": {
    "id": "ncjQSIWFR1H0"
   },
   "outputs": [],
   "source": [
    "gage4_peak = ap_readNWISpeak()\n",
    "ap_peakPlot()"
   ]
  },
  {
   "cell_type": "markdown",
   "metadata": {
    "deletable": false,
    "editable": false,
    "id": "w7DuS_lRR1H0"
   },
   "source": [
    "## Question 3 Discussion:"
   ]
  },
  {
   "cell_type": "markdown",
   "metadata": {
    "deletable": false,
    "editable": false,
    "id": "k2m2ben2R1H0"
   },
   "source": [
    "### Why do you think that the Piedra River gage peaks at roughly the same time every year? (Hint: https://water.usgs.gov/edu/watercyclesnowmelt.html ) And why are the peaks variable from year to year?"
   ]
  },
  {
   "cell_type": "markdown",
   "metadata": {
    "id": "BF9cC4JMR1H0"
   },
   "source": []
  },
  {
   "cell_type": "markdown",
   "metadata": {
    "deletable": false,
    "editable": false,
    "id": "yDJtEaFaR1H0"
   },
   "source": [
    "### If you look closely at gage 09380000 there is a date where the peak discharge changes from May - June and becomes variable. Why do you think this is? (Hint: Look at the box shape of the peaks of from the hydrograph of this site. What might caused this \"boxy\" behavior? Also, try using the function \"ap_multiyear_plot\" to plot 80-100 years of data to observe this trend)"
   ]
  },
  {
   "cell_type": "markdown",
   "metadata": {
    "id": "_poeoViQR1H1"
   },
   "source": []
  },
  {
   "cell_type": "code",
   "execution_count": null,
   "metadata": {
    "id": "JxM2Fj5SZN2j"
   },
   "outputs": [],
   "source": []
  },
  {
   "cell_type": "markdown",
   "metadata": {
    "deletable": false,
    "editable": false,
    "id": "uWgri1tvR1H1"
   },
   "source": [
    "### When do most of the peak flows occur at gage 09402000? What meterological event occurs this time of year? (Hint: Look at this article https://www.weather.gov/abq/northamericanmonsoon-intro or/and watch this video https://www.youtube.com/watch?v=_VD5GxluHN8 !) "
   ]
  },
  {
   "cell_type": "markdown",
   "metadata": {
    "id": "36WsoFZ6R1H1"
   },
   "source": []
  },
  {
   "cell_type": "markdown",
   "metadata": {
    "deletable": false,
    "editable": false,
    "id": "0ywOZEfeR1H1"
   },
   "source": [
    "### Given even more information make another guess to what landscapes these streamgages may represent."
   ]
  },
  {
   "cell_type": "markdown",
   "metadata": {
    "id": "LpHNCQ9BR1H2"
   },
   "source": []
  },
  {
   "cell_type": "markdown",
   "metadata": {
    "deletable": false,
    "editable": false,
    "id": "ldTvsW3xR1H2"
   },
   "source": [
    "# **Final Question**"
   ]
  },
  {
   "cell_type": "markdown",
   "metadata": {
    "deletable": false,
    "editable": false,
    "id": "cVvNKksfR1H2"
   },
   "source": [
    "This final line of code will lead us back to the question that we posed at the beginning of the lab, \"Where in the World are these gages\"? Execute the cell below "
   ]
  },
  {
   "cell_type": "code",
   "execution_count": null,
   "metadata": {
    "id": "PY4KDiadR1H2"
   },
   "outputs": [],
   "source": [
    "piedra =readNWISsite ('09349800')\n",
    "unknown1 =readNWISsite ('09402000')\n",
    "unknown2 =readNWISsite ('07010000')\n",
    "unknown3 =readNWISsite ('09380000')\n",
    "\n",
    "\n",
    "print(piedra$station_nm)\n",
    "print(unknown1$station_nm)\n",
    "print(unknown2$station_nm)\n",
    "print(unknown3$station_nm)"
   ]
  },
  {
   "cell_type": "markdown",
   "metadata": {
    "deletable": false,
    "editable": false,
    "id": "Sl51aMc5R1H2"
   },
   "source": [
    "### Using the search engine of your choice, the data above, and the answers to your questions above give a brief summary of:\n",
    "- What drives the shape of the hydrograph? (Snowmelt? Extreme precipitation? Dams? Glacial outbursts?)\n",
    "- The timing of maximum/minimum flows.(Are they daily, hourly, seasonal, annual, all of the above?)\n",
    "- What the primary soruce of stream flow might be for each location."
   ]
  },
  {
   "cell_type": "markdown",
   "metadata": {
    "id": "gNs9_gCLR1H3"
   },
   "source": []
  },
  {
   "cell_type": "markdown",
   "metadata": {
    "deletable": false,
    "editable": false,
    "id": "806UFhGAR1H3"
   },
   "source": [
    "# **Bonus Question (1-3 pts)**"
   ]
  },
  {
   "cell_type": "markdown",
   "metadata": {
    "id": "bgpXjeU0R1H4"
   },
   "source": [
    "Please provide 1-3 points of feedback about the lab. I would like honest feedback about things that worked, didn't work, your thoughts on the usefullness of this demonstration,etc."
   ]
  },
  {
   "cell_type": "markdown",
   "metadata": {
    "id": "nAS7hYhGR1H4"
   },
   "source": []
  }
 ],
 "metadata": {
  "colab": {
   "collapsed_sections": [],
   "name": "lab6.ipynb",
   "provenance": []
  },
  "kernelspec": {
   "display_name": "R",
   "language": "R",
   "name": "ir"
  },
  "language_info": {
   "codemirror_mode": "r",
   "file_extension": ".r",
   "mimetype": "text/x-r-source",
   "name": "R",
   "pygments_lexer": "r",
   "version": "3.5.1"
  }
 },
 "nbformat": 4,
 "nbformat_minor": 2
}
